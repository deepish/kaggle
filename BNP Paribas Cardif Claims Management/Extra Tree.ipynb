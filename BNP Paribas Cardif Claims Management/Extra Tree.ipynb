{
 "cells": [
  {
   "cell_type": "code",
   "execution_count": 1,
   "metadata": {
    "collapsed": true
   },
   "outputs": [],
   "source": [
    "import time; start_time=time.time()"
   ]
  },
  {
   "cell_type": "code",
   "execution_count": 2,
   "metadata": {
    "collapsed": false
   },
   "outputs": [],
   "source": [
    "import numpy as np\n",
    "import pandas as pd\n",
    "from sklearn import ensemble\n",
    "import xgboost as xgb\n",
    "from sklearn.metrics import log_loss,make_scorer\n",
    "from sklearn.grid_search import GridSearchCV, RandomizedSearchCV\n",
    "from sklearn.cross_validation import train_test_split\n",
    "import random; random.seed(2016)"
   ]
  },
  {
   "cell_type": "code",
   "execution_count": 3,
   "metadata": {
    "collapsed": true
   },
   "outputs": [],
   "source": [
    "train = pd.read_csv('data/train.csv')\n",
    "test = pd.read_csv('data/test.csv')"
   ]
  },
  {
   "cell_type": "code",
   "execution_count": 4,
   "metadata": {
    "collapsed": false
   },
   "outputs": [],
   "source": [
    "#Number of rows in training data\n",
    "num_train = train.shape[0]"
   ]
  },
  {
   "cell_type": "code",
   "execution_count": 5,
   "metadata": {
    "collapsed": true
   },
   "outputs": [],
   "source": [
    "#Save target from train in another series and Drop the target variable \n",
    "y_train = train['target']\n",
    "train = train.drop('target', axis=1)\n",
    "id_test = test['ID']"
   ]
  },
  {
   "cell_type": "code",
   "execution_count": 6,
   "metadata": {
    "collapsed": false
   },
   "outputs": [],
   "source": [
    "#Merge the train and test data to perform operations on the data\n",
    "df_all = pd.concat((train,test),axis=0,ignore_index=True)\n",
    "df_all['null_count'] = df_all.isnull().sum(axis=1).tolist()\n"
   ]
  },
  {
   "cell_type": "code",
   "execution_count": 7,
   "metadata": {
    "collapsed": false
   },
   "outputs": [],
   "source": [
    "#Drop the ids\n",
    "df_all_temp = df_all['ID']\n",
    "df_all = df_all.drop('ID', axis=1)\n",
    "d_col_drops = []"
   ]
  },
  {
   "cell_type": "code",
   "execution_count": 8,
   "metadata": {
    "collapsed": true
   },
   "outputs": [],
   "source": [
    "def fill_nan_null(val):\n",
    "    ret_fill_nan_null = 0.0\n",
    "    if val==True:\n",
    "        ret_fill_nan_null = 1.0\n",
    "    return ret_fill_nan_null"
   ]
  },
  {
   "cell_type": "code",
   "execution_count": 9,
   "metadata": {
    "collapsed": true
   },
   "outputs": [],
   "source": [
    "# Function to convert to hexavigesimal base..Special treamtement to v22\n",
    "def az_to_int(az,nanVal=None):\n",
    "    if az==az:  #catch NaN\n",
    "        hv = 0\n",
    "        for i in range(len(az)):\n",
    "            hv += (ord(az[i].lower())-ord('a')+1)*26**(len(az)-1-i)\n",
    "        return hv\n",
    "    else:\n",
    "        if nanVal is not None:\n",
    "            return nanVal\n",
    "        else:\n",
    "            return az\n",
    "\n",
    "# convert v22 to hexavigesimal\n",
    "df_all['v22'] = df_all.v22.apply(az_to_int)"
   ]
  },
  {
   "cell_type": "code",
   "execution_count": 10,
   "metadata": {
    "collapsed": true
   },
   "outputs": [],
   "source": [
    "df_data_types = df_all.dtypes[:]\n",
    "for i in range(len(df_data_types)):\n",
    "    df_all[str(df_data_types.index[i])+'_nan_'] = df_all[str(df_data_types.index[i])].map(lambda x:fill_nan_null(pd.isnull(x)))"
   ]
  },
  {
   "cell_type": "code",
   "execution_count": 11,
   "metadata": {
    "collapsed": false
   },
   "outputs": [],
   "source": [
    "df_all = df_all.fillna(-99)"
   ]
  },
  {
   "cell_type": "code",
   "execution_count": 12,
   "metadata": {
    "collapsed": false
   },
   "outputs": [
    {
     "name": "stdout",
     "output_type": "stream",
     "text": [
      "Column:  v3  Length:  4\n",
      "Column:  v24  Length:  5\n",
      "Column:  v30  Length:  8\n",
      "Column:  v31  Length:  4\n",
      "Column:  v47  Length:  10\n",
      "Column:  v52  Length:  13\n",
      "Column:  v56  Length:  131\n",
      "Column:  v66  Length:  3\n",
      "Column:  v71  Length:  12\n",
      "Column:  v74  Length:  3\n",
      "Column:  v75  Length:  4\n",
      "Column:  v79  Length:  18\n",
      "Column:  v91  Length:  8\n",
      "Column:  v107  Length:  8\n",
      "Column:  v110  Length:  3\n",
      "Column:  v112  Length:  23\n",
      "Column:  v113  Length:  38\n",
      "Column:  v125  Length:  91\n"
     ]
    }
   ],
   "source": [
    "for i in range(len(df_data_types)):\n",
    "    if(str(df_data_types[i]) == 'object'):\n",
    "        df_u = pd.unique(df_all[str(df_data_types.index[i])].ravel())\n",
    "        print(\"Column: \", str(df_data_types.index[i]), \" Length: \", len(df_u))\n",
    "        d={}\n",
    "        df_all[str(df_data_types.index[i])], tmpItter = df_all[str(df_data_types.index[i])].factorize()\n",
    "        d_col_drops.append(str(df_data_types.index[i]))\n",
    "        if len(df_u)<150:\n",
    "            dummies = pd.get_dummies(df_all[str(df_data_types.index[i])],prefix=str(df_data_types.index[i])) \n",
    "            #.rename(columns = lambda x: str(df_data_types.index[i])+str(x))\n",
    "            df_all_temp = pd.concat([df_all_temp,dummies], axis=1)"
   ]
  },
  {
   "cell_type": "code",
   "execution_count": 13,
   "metadata": {
    "collapsed": false
   },
   "outputs": [
    {
     "name": "stdout",
     "output_type": "stream",
     "text": [
      "228714 650\n"
     ]
    }
   ],
   "source": [
    "df_all_temp = df_all_temp.drop('ID',axis=1)\n",
    "df_all = pd.concat([df_all,df_all_temp], axis=1)\n",
    "print(len(df_all),len(df_all.columns))"
   ]
  },
  {
   "cell_type": "code",
   "execution_count": 14,
   "metadata": {
    "collapsed": false
   },
   "outputs": [],
   "source": [
    "#Just in case, we need to start all the things over again\n",
    "#df_all.to_csv(\"df_all.csv\")"
   ]
  },
  {
   "cell_type": "code",
   "execution_count": 15,
   "metadata": {
    "collapsed": false
   },
   "outputs": [
    {
     "data": {
      "text/plain": [
       "['v3',\n",
       " 'v24',\n",
       " 'v30',\n",
       " 'v31',\n",
       " 'v47',\n",
       " 'v52',\n",
       " 'v56',\n",
       " 'v66',\n",
       " 'v71',\n",
       " 'v74',\n",
       " 'v75',\n",
       " 'v79',\n",
       " 'v91',\n",
       " 'v107',\n",
       " 'v110',\n",
       " 'v112',\n",
       " 'v113',\n",
       " 'v125']"
      ]
     },
     "execution_count": 15,
     "metadata": {},
     "output_type": "execute_result"
    }
   ],
   "source": [
    "d_col_drops"
   ]
  },
  {
   "cell_type": "code",
   "execution_count": 16,
   "metadata": {
    "collapsed": false
   },
   "outputs": [],
   "source": [
    "partialDataTrain = round(num_train *0.1)"
   ]
  },
  {
   "cell_type": "code",
   "execution_count": 17,
   "metadata": {
    "collapsed": false
   },
   "outputs": [],
   "source": [
    "#Seperate out train and test data to run the model\n",
    "train = df_all.iloc[:num_train]\n",
    "#train = df_all.iloc[:partialDataTrain]\n",
    "#y_train = y_train[:partialDataTrain]\n",
    "test = df_all.iloc[num_train:]\n",
    "train = train.drop(d_col_drops,axis=1)\n",
    "test = test.drop(d_col_drops,axis=1)"
   ]
  },
  {
   "cell_type": "code",
   "execution_count": 18,
   "metadata": {
    "collapsed": false
   },
   "outputs": [],
   "source": [
    "def flog_loss(ground_truth,predictions):\n",
    "    flog_loss_ = log_loss(ground_truth,predictions)\n",
    "    return flog_loss_\n",
    "\n",
    "LL = make_scorer(flog_loss, greater_is_better=False)"
   ]
  },
  {
   "cell_type": "code",
   "execution_count": 19,
   "metadata": {
    "collapsed": true
   },
   "outputs": [],
   "source": [
    "#g={'ne':150,'md':6,'mf':80,'rs':2016} \n",
    "#Suggested one \n",
    "g={'ne':500,'md':40,'mf':60,'rs':2016}\n",
    "etc = ensemble.ExtraTreesClassifier(n_estimators=g['ne'], max_depth=g['md'], max_features=g['mf'], \n",
    "                                    random_state=g['rs'], criterion='entropy', min_samples_split= 4, \n",
    "                                    min_samples_leaf= 2, verbose = 0, n_jobs =-1)\n",
    "\n",
    "etr = ensemble.ExtraTreesRegressor(n_estimators=g['ne'], max_depth=g['md'], max_features=g['mf'], \n",
    "                                   random_state=g['rs'], min_samples_split= 4, min_samples_leaf= 2,\n",
    "                                   verbose = 0, n_jobs =-1)    \n"
   ]
  },
  {
   "cell_type": "code",
   "execution_count": 20,
   "metadata": {
    "collapsed": true
   },
   "outputs": [],
   "source": [
    "clf = {'etc':etc, 'etr':etr} # use this line instead\n",
    "# removed due to kaggle performance, would prefer less time and more cores than more time and less cores :)\n",
    "#clf = {'etr':etr, 'rfr':rfr, 'xgr':xgr}\n",
    "#Since i am getting a pickling error, we moved to only xgb regressor and classifier\n",
    "#clf = {'xgr':xgr,'xgc':xgc}"
   ]
  },
  {
   "cell_type": "code",
   "execution_count": 21,
   "metadata": {
    "collapsed": false
   },
   "outputs": [],
   "source": [
    "y_pred=[]\n",
    "best_score = 0.0\n",
    "id_results = id_test[:]"
   ]
  },
  {
   "cell_type": "code",
   "execution_count": 22,
   "metadata": {
    "collapsed": true
   },
   "outputs": [],
   "source": [
    "param_dist = {\n",
    "    'n_estimators': list(range(250,300,10)),\n",
    "    'max_depth' : list(range(20,60,10)),\n",
    "    'max_features' : list(range(20,100,10)),\n",
    "    'max_leaf_nodes' : list(range(5,20)),\n",
    "    'min_samples_leaf' : list(range(1,5)),\n",
    "    'min_samples_split' : list(range(2,10))    \n",
    "}"
   ]
  },
  {
   "cell_type": "code",
   "execution_count": 23,
   "metadata": {
    "collapsed": false
   },
   "outputs": [],
   "source": [
    "#Do some Radomized search CV and find ou the best possible parameters in each case\n",
    "random_search = RandomizedSearchCV(clf['etc'], param_distributions=param_dist,n_iter=20, scoring=LL,\n",
    "                                   n_jobs=1, iid=True, refit=True, cv=2, verbose=1)"
   ]
  },
  {
   "cell_type": "code",
   "execution_count": 24,
   "metadata": {
    "collapsed": false
   },
   "outputs": [
    {
     "name": "stdout",
     "output_type": "stream",
     "text": [
      "Fitting 2 folds for each of 20 candidates, totalling 40 fits\n"
     ]
    },
    {
     "name": "stderr",
     "output_type": "stream",
     "text": [
      "[Parallel(n_jobs=1)]: Done  40 out of  40 | elapsed: 14.1min finished\n"
     ]
    },
    {
     "data": {
      "text/plain": [
       "RandomizedSearchCV(cv=2, error_score='raise',\n",
       "          estimator=ExtraTreesClassifier(bootstrap=False, class_weight=None, criterion='entropy',\n",
       "           max_depth=40, max_features=60, max_leaf_nodes=None,\n",
       "           min_samples_leaf=2, min_samples_split=4,\n",
       "           min_weight_fraction_leaf=0.0, n_estimators=500, n_jobs=-1,\n",
       "           oob_score=False, random_state=2016, verbose=0, warm_start=False),\n",
       "          fit_params={}, iid=True, n_iter=20, n_jobs=1,\n",
       "          param_distributions={'max_depth': [20, 30, 40, 50], 'max_features': [20, 30, 40, 50, 60, 70, 80, 90], 'min_samples_leaf': [1, 2, 3, 4], 'min_samples_split': [2, 3, 4, 5, 6, 7, 8, 9], 'n_estimators': [250, 260, 270, 280, 290], 'max_leaf_nodes': [5, 6, 7, 8, 9, 10, 11, 12, 13, 14, 15, 16, 17, 18, 19]},\n",
       "          pre_dispatch='2*n_jobs', random_state=None, refit=True,\n",
       "          scoring=make_scorer(flog_loss, greater_is_better=False),\n",
       "          verbose=1)"
      ]
     },
     "execution_count": 24,
     "metadata": {},
     "output_type": "execute_result"
    }
   ],
   "source": [
    "random_search.fit(train,y_train)"
   ]
  },
  {
   "cell_type": "code",
   "execution_count": 25,
   "metadata": {
    "collapsed": false
   },
   "outputs": [
    {
     "data": {
      "text/plain": [
       "ExtraTreesClassifier(bootstrap=False, class_weight=None, criterion='entropy',\n",
       "           max_depth=50, max_features=50, max_leaf_nodes=14,\n",
       "           min_samples_leaf=3, min_samples_split=7,\n",
       "           min_weight_fraction_leaf=0.0, n_estimators=270, n_jobs=-1,\n",
       "           oob_score=False, random_state=2016, verbose=0, warm_start=False)"
      ]
     },
     "execution_count": 25,
     "metadata": {},
     "output_type": "execute_result"
    }
   ],
   "source": [
    "random_search.best_estimator_"
   ]
  },
  {
   "cell_type": "code",
   "execution_count": 35,
   "metadata": {
    "collapsed": false
   },
   "outputs": [],
   "source": [
    "classifier = ensemble.ExtraTreesClassifier(bootstrap=False, class_weight=None, criterion='entropy',\n",
    "           max_depth=50, max_features=50, max_leaf_nodes=14,\n",
    "           min_samples_leaf=3, min_samples_split=7,\n",
    "           min_weight_fraction_leaf=0.0, n_estimators=270, n_jobs=-1,\n",
    "           oob_score=False, random_state=2016, verbose=0, warm_start=False)"
   ]
  },
  {
   "cell_type": "code",
   "execution_count": 36,
   "metadata": {
    "collapsed": false
   },
   "outputs": [
    {
     "data": {
      "text/plain": [
       "ExtraTreesClassifier(bootstrap=False, class_weight=None, criterion='entropy',\n",
       "           max_depth=50, max_features=50, max_leaf_nodes=14,\n",
       "           min_samples_leaf=3, min_samples_split=7,\n",
       "           min_weight_fraction_leaf=0.0, n_estimators=270, n_jobs=-1,\n",
       "           oob_score=False, random_state=2016, verbose=0, warm_start=False)"
      ]
     },
     "execution_count": 36,
     "metadata": {},
     "output_type": "execute_result"
    }
   ],
   "source": [
    "classifier.fit(train,y_train)"
   ]
  },
  {
   "cell_type": "code",
   "execution_count": 37,
   "metadata": {
    "collapsed": false
   },
   "outputs": [],
   "source": [
    "imp = pd.DataFrame({'col' : train.columns.values, 'imp':classifier.feature_importances_})"
   ]
  },
  {
   "cell_type": "code",
   "execution_count": 38,
   "metadata": {
    "collapsed": false
   },
   "outputs": [
    {
     "data": {
      "text/plain": [
       "<matplotlib.axes._subplots.AxesSubplot at 0x973d513e10>"
      ]
     },
     "execution_count": 38,
     "metadata": {},
     "output_type": "execute_result"
    },
    {
     "data": {
      "image/png": "[encoded data removed]",
      "text/plain": [
       "<matplotlib.figure.Figure at 0x973d4b4cf8>"
      ]
     },
     "metadata": {},
     "output_type": "display_data"
    }
   ],
   "source": [
    "%matplotlib inline\n",
    "imp.sort_values('imp',ascending=False).head(20).plot(kind='bar',x='col',y='imp')"
   ]
  },
  {
   "cell_type": "code",
   "execution_count": 39,
   "metadata": {
    "collapsed": false
   },
   "outputs": [],
   "source": [
    "probabities = classifier.predict_proba(test)"
   ]
  },
  {
   "cell_type": "code",
   "execution_count": 40,
   "metadata": {
    "collapsed": false
   },
   "outputs": [],
   "source": [
    "prob = pd.DataFrame(probabities[:,1])"
   ]
  },
  {
   "cell_type": "code",
   "execution_count": 41,
   "metadata": {
    "collapsed": false
   },
   "outputs": [
    {
     "data": {
      "text/plain": [
       "numpy.ndarray"
      ]
     },
     "execution_count": 41,
     "metadata": {},
     "output_type": "execute_result"
    }
   ],
   "source": [
    "type(probabities[:,1])"
   ]
  },
  {
   "cell_type": "code",
   "execution_count": 42,
   "metadata": {
    "collapsed": false
   },
   "outputs": [],
   "source": [
    "id_results = pd.DataFrame({\"ID\": id_test, 'PredictedProb': probabities[:,1]})"
   ]
  },
  {
   "cell_type": "code",
   "execution_count": 43,
   "metadata": {
    "collapsed": false
   },
   "outputs": [],
   "source": [
    "id_results.to_csv('ext_classifier.csv',index=False)"
   ]
  }
 ],
 "metadata": {
  "kernelspec": {
   "display_name": "Python 3",
   "language": "python",
   "name": "python3"
  },
  "language_info": {
   "codemirror_mode": {
    "name": "ipython",
    "version": 3
   },
   "file_extension": ".py",
   "mimetype": "text/x-python",
   "name": "python",
   "nbconvert_exporter": "python",
   "pygments_lexer": "ipython3",
   "version": "3.5.1"
  }
 },
 "nbformat": 4,
 "nbformat_minor": 0
}
